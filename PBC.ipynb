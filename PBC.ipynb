{
 "cells": [
  {
   "cell_type": "code",
   "execution_count": 2,
   "metadata": {
    "scrolled": true
   },
   "outputs": [
    {
     "data": {
      "application/vnd.jupyter.widget-view+json": {
       "model_id": "8fcfb1a3acac4483a272b422b29d1fb6",
       "version_major": 2,
       "version_minor": 0
      },
      "text/plain": [
       "NGLWidget(max_frame=30009)"
      ]
     },
     "metadata": {},
     "output_type": "display_data"
    }
   ],
   "source": [
    "import nglview as nv\n",
    "import MDAnalysis as mda\n",
    "from MDAnalysis.transformations import unwrap, center_in_box\n",
    "from MDAnalysis.analysis import align\n",
    "from MDAnalysis import transformations\n",
    "\n",
    "# Load the molecular dynamics trajectory files (PD.gro and PD.xtc)\n",
    "u = mda.Universe(\"PD.gro\", \"PD.xtc\")\n",
    "\n",
    "# Select the protein and DNA molecules from the trajectory\n",
    "protein = u.select_atoms('protein')\n",
    "dna = u.select_atoms('nucleic')\n",
    "\n",
    "# Select the protein-DNA complex (both protein and DNA)\n",
    "complex = u.select_atoms('protein or nucleic')\n",
    "\n",
    "# Guess and add bonds between atoms in the system\n",
    "u.atoms.guess_bonds()\n",
    "\n",
    "# Create a copy of the trajectory as a reference\n",
    "ref_u = u.copy()\n",
    "\n",
    "# Select the DNA molecule from the reference trajectory\n",
    "reference = ref_u.select_atoms(\"nucleic\")\n",
    "\n",
    "# Define a workflow of transformations to preprocess the trajectory:\n",
    "workflow = (\n",
    "    # Step 1: Unwrap the complex to avoid broken molecules due to periodic boundaries\n",
    "    transformations.unwrap(complex),\n",
    "    \n",
    "    # Step 2: Center the DNA molecule in the simulation box, using its mass center\n",
    "    transformations.center_in_box(dna, center='mass'),\n",
    "    \n",
    "    # Step 3: Wrap the complex back into the simulation box, treating fragments as units\n",
    "    transformations.wrap(complex, compound='fragments'),\n",
    "    \n",
    "    # Step 4: Align the DNA molecule to the reference DNA using rotation and translation\n",
    "    transformations.fit_rot_trans(dna, reference)\n",
    ")\n",
    "\n",
    "# Apply the defined transformations to the trajectory\n",
    "u.trajectory.add_transformations(*workflow)\n",
    "\n",
    "# Visualize the processed trajectory using nglview\n",
    "view = nv.show_mdanalysis(u)\n",
    "view"
   ]
  },
  {
   "cell_type": "code",
   "execution_count": null,
   "metadata": {},
   "outputs": [],
   "source": []
  }
 ],
 "metadata": {
  "kernelspec": {
   "display_name": "Python 3 (ipykernel)",
   "language": "python",
   "name": "python3"
  },
  "language_info": {
   "codemirror_mode": {
    "name": "ipython",
    "version": 3
   },
   "file_extension": ".py",
   "mimetype": "text/x-python",
   "name": "python",
   "nbconvert_exporter": "python",
   "pygments_lexer": "ipython3",
   "version": "3.10.0"
  }
 },
 "nbformat": 4,
 "nbformat_minor": 4
}
